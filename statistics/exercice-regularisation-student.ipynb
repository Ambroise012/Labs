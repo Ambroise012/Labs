{
 "cells": [
  {
   "cell_type": "markdown",
   "metadata": {},
   "source": [
    "# TP : Régression Ridge, Lasso et Elastic Net\n",
    "\n",
    "## Objectifs\n",
    "- Comprendre le rôle de la régularisation (L2, L1, combinaison).\n",
    "- Relier théorie et pratique à travers des exercices et du code.\n",
    "- Savoir choisir les hyperparamètres ($\\lambda, \\gamma$) via validation croisée."
   ]
  },
  {
   "cell_type": "markdown",
   "metadata": {},
   "source": [
    "## 0. Introduction\n",
    "Dans ce TP, nous allons explorer trois variantes de la régression pénalisée :\n",
    "- **Ridge regression (L2)**\n",
    "- **Lasso regression (L1)**\n",
    "- **Elastic Net (L1 + L2)**"
   ]
  },
  {
   "cell_type": "markdown",
   "metadata": {},
   "source": [
    "## 1. Régression linéaire et colinéarité"
   ]
  },
  {
   "cell_type": "markdown",
   "metadata": {},
   "source": [
    "**Question 1: expliquer ce que fait le code ci-dessous.**"
   ]
  },
  {
   "cell_type": "code",
   "execution_count": 155,
   "metadata": {},
   "outputs": [],
   "source": [
    "import numpy as np\n",
    "import pandas as pd\n",
    "import matplotlib.pyplot as plt\n",
    "from sklearn.linear_model import LinearRegression\n",
    "\n",
    "rng = np.random.RandomState(42)\n",
    "n = 200\n",
    "\n",
    "# Colinéarité forte mais imparfaite -> ?\n",
    "x1 = rng.normal(0, 1, n)\n",
    "x2 = rng.normal(0, 1, n)   \n",
    "\n",
    "# Variables bruitées supplémentaires (parasites)\n",
    "X_noise = rng.normal(0, 1, size=(n, 2))\n",
    "X = np.column_stack([x1, x2, X_noise])\n",
    "\n",
    "# Vraie relation + bruit de sortie\n",
    "beta_true = np.array([3.0, -2.0] + [0.0]*2)\n",
    "y = X @ beta_true + rng.normal(0, 1.0, n)  # bruit non négligeable"
   ]
  },
  {
   "cell_type": "markdown",
   "metadata": {},
   "source": [
    "Ce code prépare des données pour une régression linéaire multiple avec :\n",
    "- Deux variables explicatives principales (x1 et x2) : générées indépendamment.\n",
    "- variable de bruit (X_noise) parasites, sans impact significatif sur y (coefficients nuls dans beta_true).\n",
    "- Un bruit gaussien : rng.normal(0, 1.0, n). Ajoute un bruit non négligeable à y.\n",
    "\n",
    "On peut donc prévoir par la suite que l'on va étudier l'impact du bruit et de la variables parasites sur les performances d'un modèle de régression linéaire. \n",
    "\n",
    "**Remarque :** le commentaire \"Colinéarité forte mais imparfaite\" semble faux puisque justement dans cette section x1 et x2 ne sont pass colinéaire contrairement à la suite du TP."
   ]
  },
  {
   "cell_type": "markdown",
   "metadata": {},
   "source": [
    "**Question 2: entrainer un modèle de linéaire permettant de recouvrer la relation entre $y$ et les variables $x_1$ et $x_2$. Afficher les valeurs des coefficients du modèle. Cela vous parait-il cohérent?**"
   ]
  },
  {
   "cell_type": "code",
   "execution_count": 156,
   "metadata": {},
   "outputs": [
    {
     "name": "stdout",
     "output_type": "stream",
     "text": [
      "[ 2.97658489 -2.13594131 -0.05913546  0.05298412]\n"
     ]
    }
   ],
   "source": [
    "model = LinearRegression()\n",
    "model.fit(X, y)\n",
    "print(model.coef_)"
   ]
  },
  {
   "cell_type": "markdown",
   "metadata": {},
   "source": [
    "- Comparaison avec `beta_true` :\n",
    "  - $\\hat{\\theta}_1 = 2.976$ (proche de 3.0)\n",
    "  - $\\hat{\\theta}_2 = -2.136$ (proche de -2.0)\n",
    "  - $\\hat{\\theta}_3 = -0.059$ (proche de 0, variable parasite)\n",
    "  - $\\hat{\\theta}_4 = 0.053$ (proche de 0, variable parasite)\n",
    "\n",
    "Ces résultats semblent cohérents. Le bruit ajouté à `y` (avec un écart type = 1.0) est suffisant pour expliquer les petites différences entre les coefficients estimés et les vrais coefficients (`beta_true`).\n",
    "\n",
    "Le modèle fonctionne bien dans ce cas, car il n’y a ni colinéarité ni problème structurel dans les données."
   ]
  },
  {
   "cell_type": "markdown",
   "metadata": {},
   "source": [
    "On va maintenant supposer que les deux premières variables sont colinéaires. "
   ]
  },
  {
   "cell_type": "code",
   "execution_count": 157,
   "metadata": {},
   "outputs": [],
   "source": [
    "rng = np.random.RandomState(42)\n",
    "n = 200\n",
    "\n",
    "# Colinéarité forte mais imparfaite\n",
    "x1 = rng.normal(0, 1, n)\n",
    "x2 = x1 + 0.05*rng.normal(0, 1, n)   # corr(x1,x2) ~ 0.998\n",
    "\n",
    "# Variables bruitées supplémentaires (parasites)\n",
    "X_noise = rng.normal(0, 1, size=(n, 2))\n",
    "X_colinear = np.column_stack([x1, x2, X_noise])\n",
    "\n",
    "# Vraie relation + bruit de sortie\n",
    "beta_true = np.array([3.0, -2.0] + [0.0]*2)\n",
    "y = X_colinear @ beta_true + rng.normal(0, 1.0, n)  # bruit non négligeable"
   ]
  },
  {
   "cell_type": "markdown",
   "metadata": {},
   "source": [
    "**Question 3: quel est l'impact de l'ajout de cette variable sur les coefficients de la régression linéaire?**"
   ]
  },
  {
   "cell_type": "markdown",
   "metadata": {},
   "source": [
    "En ajoutant cette corrélation quasi parfaite entre x1 et x2 : (corrélation ≈ 0.998)\n",
    "\n",
    "x1 et x2 apportent la **même information** : La matrice $X^T X$ est non inversible.\n",
    "\n",
    "Les coefficients $\\hat{\\theta}_2$ et $\\hat{\\theta}_3$ deviennent non identifiables.\n",
    "\n",
    "Il existe une **infinité** de solutions qui donnent la même prédiction $\\hat{y}$​.\n"
   ]
  },
  {
   "cell_type": "code",
   "execution_count": 158,
   "metadata": {},
   "outputs": [
    {
     "name": "stdout",
     "output_type": "stream",
     "text": [
      "[ 5.69541114 -4.71882625 -0.05913546  0.05298412]\n"
     ]
    }
   ],
   "source": [
    "model.fit(X_colinear, y)\n",
    "print(model.coef_)"
   ]
  },
  {
   "cell_type": "markdown",
   "metadata": {},
   "source": [
    "Dans le cas de la colinéarité forte, nous remarquons que les coeficients cette fois ci ne sont plus proche des $\\Beta_i$ vu que nous avons ajouté une corrélation entre x1 et x2. \n",
    "\n",
    "Ce qui explique bien le problème de multicolinéarité en régression linéaire."
   ]
  },
  {
   "cell_type": "markdown",
   "metadata": {},
   "source": [
    "### Exercice : non-unicité des coefficients en cas de colinéarité parfaite\n",
    "\n",
    "Considérons deux variables explicatives parfaitement colinéaires :\n",
    "\n",
    "$$\n",
    "x_{1} = (1,2)^\\top,\n",
    "\\quad x_{2} = (2,4)^\\top, \n",
    "\\quad y = (3,6)^\\top.\n",
    "$$\n",
    "\n",
    "1. Construire la matrice $X = \\begin{bmatrix} x_1 , x_2 \\end{bmatrix}$.  Vérifier que la matrice de Gram est non inversible (son déterminant doit être nul).  \n",
    "2. Écrire le problème des moindres carrés associé à cet exemple.\n",
    "3. Montrer que toutes les solutions qui vérifient $\\beta_1 + 2\\beta_2 = 3$ donnent exactement la même prédiction $\\hat y = y$.  \n",
    "4. En conclure que la solution des MCO n’est **pas unique**.\n"
   ]
  },
  {
   "cell_type": "markdown",
   "metadata": {},
   "source": [
    "Votre réponse: "
   ]
  },
  {
   "cell_type": "markdown",
   "metadata": {},
   "source": [
    "**1. matrice X, matrice de Gram**\n",
    "$$\n",
    "x_1 = \\begin{pmatrix} 1 \\\\ 2 \\end{pmatrix}, \\quad x_2 = \\begin{pmatrix} 2 \\\\ 4 \\end{pmatrix}, \\quad y = \\begin{pmatrix} 3 \\\\ 6 \\end{pmatrix}\n",
    "$$\n",
    "\n",
    "$$\n",
    "X = \\begin{bmatrix} x_1 & x_2 \\end{bmatrix} = \\begin{bmatrix} 1 & 2 \\\\ 2 & 4 \\end{bmatrix}\n",
    "$$\n",
    "\n",
    "Matrice de Gram $X^T X $ :\n",
    "$$\n",
    "X^T X = \\begin{bmatrix} 1 & 2 \\\\ 2 & 4 \\end{bmatrix}^T \\begin{bmatrix} 1 & 2 \\\\ 2 & 4 \\end{bmatrix} = \\begin{bmatrix} 5 & 10 \\\\ 10 & 20 \\end{bmatrix}\n",
    "$$\n",
    "\n",
    "$$\n",
    "\\det(X^T X) = 100 - 100 = 0\n",
    "$$\n",
    "\n",
    "La matrice de Gram est donc **non inversible**. Donc le problème des moindres carrés n’a pas de solution unique.\n",
    "\n",
    "\n",
    "**2. Problème des moindres carrés associé**\n",
    "\n",
    "On cherche à minimiser :\n",
    "$$\n",
    "\\| y - X \\hat{\\beta} \\|^2\n",
    "$$\n",
    "\n",
    "$$\n",
    "X^T y = \\begin{bmatrix} 1 & 2 \\\\ 2 & 4 \\end{bmatrix}^T \\begin{pmatrix} 3 \\\\ 6 \\end{pmatrix} = \\begin{pmatrix} 15 \\\\ 30 \\end{pmatrix}\n",
    "$$\n",
    "\n",
    "$$\n",
    "\\begin{bmatrix} 5 & 10 \\\\ 10 & 20 \\end{bmatrix} \\begin{pmatrix} \\beta_1 \\\\ \\beta_2 \\end{pmatrix} = \\begin{pmatrix} 15 \\\\ 30 \\end{pmatrix}\n",
    "$$\n",
    "\n",
    "**3. Toutes les solutions vérifiant $\\beta_1 + 2\\beta_2 = 3$ donnent $\\hat{y} = y$**\n",
    "\n",
    "Comme $x_2 = 2x_1$, toute solution $\\beta$ telle que $\\beta_1 + 2\\beta_2 = 3$ donnera :\n",
    "$$\n",
    "\\hat{y} = X \\beta = \\beta_1 x_1 + \\beta_2 x_2 = \\beta_1 x_1 + \\beta_2 (2x_1) = (\\beta_1 + 2\\beta_2) x_1 = 3 x_1 = \\begin{pmatrix} 3 \\\\ 6 \\end{pmatrix} = y\n",
    "$$\n",
    "\n",
    "La matrice \\(X^T X\\) est **non inversible**, ce qui implique que le système d'équations normales a une **infinité de solutions**. Toutes ces solutions satisfont la relation \\(\\beta_1 + 2\\beta_2 = 3\\) et donnent la même prédiction $\\hat{y} = y$.\n",
    "\n",
    "Donc en cas de colinéarité parfaite, les coefficients $\\beta$ ne sont pas identifiables de manière unique. Le problème des moindres carrés admet une infinité de solutions, mais toutes ces solutions mènent à la même prédiction $\\hat{y}$.\n"
   ]
  },
  {
   "cell_type": "markdown",
   "metadata": {},
   "source": [
    "Visuellement, on peut voir que l’ensemble des solutions forme une droite (sous-espace affine) dans le plan des coefficients. Chaque point sur cette droite donne exactement la même prédiction $\\hat{y}$."
   ]
  },
  {
   "cell_type": "code",
   "execution_count": 159,
   "metadata": {},
   "outputs": [
    {
     "data": {
      "image/png": "[encoded data removed]",
      "text/plain": [
       "<Figure size 600x600 with 1 Axes>"
      ]
     },
     "metadata": {},
     "output_type": "display_data"
    }
   ],
   "source": [
    "# Droite des solutions β1 + 2β2 = 3\n",
    "beta2 = np.linspace(-1, 3, 100)\n",
    "beta1 = 3 - 2*beta2  # relation\n",
    "\n",
    "plt.figure(figsize=(6,6))\n",
    "\n",
    "# tracer la droite avec un label\n",
    "plt.plot(beta1, beta2, color=\"C0\", label=r\"$\\beta_1 + 2\\beta_2 = 3$\")\n",
    "\n",
    "# quelques solutions particulières\n",
    "solutions = [(3,0), (1,1), (-1,2)]\n",
    "for b1,b2 in solutions:\n",
    "    plt.scatter(b1, b2, color=\"red\", label=f\"({b1},{b2})\")\n",
    "\n",
    "# axes\n",
    "plt.axhline(0, color=\"black\", linewidth=0.7)\n",
    "plt.axvline(0, color=\"black\", linewidth=0.7)\n",
    "\n",
    "plt.xlabel(r\"$\\beta_1$\")\n",
    "plt.ylabel(r\"$\\beta_2$\")\n",
    "plt.title(\"Infinité de solutions MCO en cas de colinéarité parfaite\")\n",
    "\n",
    "plt.legend()\n",
    "plt.grid(True)\n",
    "plt.show()\n"
   ]
  },
  {
   "cell_type": "markdown",
   "metadata": {},
   "source": [
    "## 2. Ridge Regression"
   ]
  },
  {
   "cell_type": "markdown",
   "metadata": {},
   "source": [
    "**Question 4: on va maintenant passer à la régression ridge. Compléter le code ci dessous.**"
   ]
  },
  {
   "cell_type": "markdown",
   "metadata": {},
   "source": [
    "**1. Principe de la régression Ridge**\n",
    "La régression Ridge ajoute une **pénalité de régularisation** à la fonction de coût des moindres carrés ordinaires (OLS). Cette pénalité limite l'amplitude des coefficients du modèle, ce qui les rend plus stables et interprétables.\n",
    "\n",
    "**Fonction de coût :**\n",
    "La régression Ridge minimise la fonction suivante :\n",
    "$$\n",
    "\\underbrace{\\| y - X \\beta \\|^2}_{\\text{Erreur des moindres carrés}} + \\underbrace{\\lambda \\|\\beta\\|^2}_{\\text{Pénalité Ridge}}\n",
    "$$\n",
    "\n",
    "**Avantages :**\n",
    "- **Stabilise les coefficients** : En cas de colinéarité, les coefficients estimés par OLS peuvent être très grands et instables. Ridge les \"tire\" vers zéro, ce qui réduit leur variance.\n",
    "- **Réduit l'overfitting** : En limitant l'amplitude des coefficients, Ridge évite que le modèle s'adapte trop aux bruits des données d'entraînement.\n",
    "- **Gère les matrices non inversibles** : Même si $ X^T X $ n'est pas inversible (par exemple en cas de colinéarité parfaite), Ridge peut trouver une solution grâce à la pénalité.\n"
   ]
  },
  {
   "cell_type": "code",
   "execution_count": 160,
   "metadata": {},
   "outputs": [
    {
     "name": "stdout",
     "output_type": "stream",
     "text": [
      "Coefficients OLS : [ 5.99493938 -5.08499062 -0.05418515  0.08738549]\n",
      "Coefficients Ridge : [ 1.36788591 -0.46316358 -0.04226968  0.10643454]\n",
      "\n",
      "Erreurs OLS :\n",
      "MSE : 1.0441, RMSE : 1.0218\n",
      "\n",
      "Erreurs Ridge :\n",
      "MSE : 1.0351, RMSE : 1.0174\n"
     ]
    }
   ],
   "source": [
    "from sklearn.model_selection import train_test_split\n",
    "from sklearn.linear_model import LinearRegression, Ridge\n",
    "from sklearn.metrics import mean_squared_error\n",
    "from sklearn.preprocessing import StandardScaler\n",
    "from sklearn.pipeline import make_pipeline\n",
    "\n",
    "import numpy as np\n",
    "\n",
    "# Split train / test\n",
    "X_train, X_test, y_train, y_test = train_test_split(X_colinear, y, test_size=0.2, random_state=42)\n",
    "\n",
    "# Modèle sans régularisation (OLS) + prédiction\n",
    "model_ols = make_pipeline(StandardScaler(), LinearRegression())\n",
    "model_ols.fit(X_train, y_train)\n",
    "y_pred_ols = model_ols.predict(X_test)\n",
    "\n",
    "# Modèle Ridge avec λ=1 + prédiction\n",
    "model_ridge = make_pipeline(StandardScaler(), Ridge(alpha=1.0))\n",
    "model_ridge.fit(X_train, y_train)\n",
    "y_pred_ridge = model_ridge.predict(X_test)\n",
    "\n",
    "# Affichage des valeurs des coefficients \n",
    "coef_ols = model_ols.named_steps['linearregression'].coef_\n",
    "coef_ridge = model_ridge.named_steps[\"ridge\"].coef_\n",
    "print(\"Coefficients OLS :\", coef_ols)\n",
    "print(\"Coefficients Ridge :\", coef_ridge)\n",
    "\n",
    "\n",
    "# Affichage des erreurs (MSE/RMSE) sur les données tests\n",
    "mse_ols = mean_squared_error(y_test, y_pred_ols)\n",
    "rmse_ols = np.sqrt(mse_ols)\n",
    "mse_ridge = mean_squared_error(y_test, y_pred_ridge)\n",
    "rmse_ridge = np.sqrt(mse_ridge)\n",
    "\n",
    "print(\"\\nErreurs OLS :\")\n",
    "print(f\"MSE : {mse_ols:.4f}, RMSE : {rmse_ols:.4f}\")\n",
    "\n",
    "print(\"\\nErreurs Ridge :\")\n",
    "print(f\"MSE : {mse_ridge:.4f}, RMSE : {rmse_ridge:.4f}\")\n"
   ]
  },
  {
   "cell_type": "markdown",
   "metadata": {},
   "source": [
    "Qu'observez vous pour les valeurs des coefficients?"
   ]
  },
  {
   "cell_type": "markdown",
   "metadata": {},
   "source": [
    "Comparé aux coeficients OLS, les coefficients Ridge sont plus petits et rapprochés les uns des autres. La régularisation Ridge réduit l'amplitude des coefficients.\n",
    "\n",
    "La colinéarité entre x1 et x2 rend les coefficients instables et difficiles à interpréter avec OLS.\n",
    "\n",
    "Ridge \"tire\" les coefficients vers zéro et les \"stabilise\".\n",
    "\n",
    "Les erreurs entre OLS et Ridge sont très proches (l'erreur avec ridge est très légèrement inférieur)"
   ]
  },
  {
   "cell_type": "markdown",
   "metadata": {},
   "source": [
    "### Faire varier $\\lambda$\n",
    "\n",
    "On va maintenant regarder comment choisir une valeur optimale pour $\\lambda$. Nous disposons de deux stratégies.\n",
    "\n",
    "1. Utilisation d'un échantillon de validation \n",
    "2. Validation croisée K-fold "
   ]
  },
  {
   "cell_type": "markdown",
   "metadata": {},
   "source": [
    "#### Train/Validation/Test Split \n",
    "\n",
    "On va maintenant séparer les données en 3 parties :\n",
    "\n",
    "- Train : pour ajuster les coefficients \n",
    "- Validation : pour comparer différentes valeurs de \n",
    "- Test : pour évaluer une seule fois la performance finale du modèle choisi.\n",
    "\n",
    "Attention, cette stratégie peut poser problème quand le dataset est petit car on « perd » beaucoup de données pour l’entraînement."
   ]
  },
  {
   "cell_type": "code",
   "execution_count": 161,
   "metadata": {},
   "outputs": [],
   "source": [
    "# Split train / valid / test\n",
    "X_train, X_temp, y_train, y_temp = train_test_split(X_colinear, y, test_size=0.4, random_state=42)\n",
    "X_valid, X_test, y_valid, y_test = train_test_split(X_temp, y_temp, test_size=0.5, random_state=42)"
   ]
  },
  {
   "cell_type": "markdown",
   "metadata": {},
   "source": [
    "**Question 6: Définir une grille de recherche pour les valeurs de $\\lambda$ (1e−3 à 1e3 sur une échelle logarithmique) et déclarer une liste pour stocker les mse associés à chaque hyperparamètre.** "
   ]
  },
  {
   "cell_type": "code",
   "execution_count": 162,
   "metadata": {},
   "outputs": [],
   "source": [
    "lambdas = np.logspace(-3, 3, num=50)"
   ]
  },
  {
   "cell_type": "markdown",
   "metadata": {},
   "source": [
    "**Question 7: complété le code ci-dessous pour déterminer la meilleur valeur de $\\lambda$ pour la régression ridge.**"
   ]
  },
  {
   "cell_type": "code",
   "execution_count": 163,
   "metadata": {},
   "outputs": [
    {
     "name": "stdout",
     "output_type": "stream",
     "text": [
      "\n",
      "Meilleur λ (validation split): 4.714866363457395\n"
     ]
    }
   ],
   "source": [
    "mse_scores = []\n",
    "\n",
    "for alpha in lambdas:\n",
    "    model = make_pipeline(StandardScaler(), Ridge(alpha=alpha))\n",
    "    model.fit(X_train, y_train)\n",
    "\n",
    "    y_pred = model.predict(X_valid)\n",
    "    mse = mean_squared_error(y_valid, y_pred)\n",
    "    mse_scores.append(mse)\n",
    "\n",
    "# lambda qui minimise MSE\n",
    "best_lambda_idx = np.argmin(mse_scores)\n",
    "best_lambda = lambdas[best_lambda_idx]\n",
    "\n",
    "print(\"\\nMeilleur λ (validation split):\", best_lambda)\n"
   ]
  },
  {
   "cell_type": "markdown",
   "metadata": {},
   "source": [
    "**Question 8: entrainer votre modèle sur train+valid avec le meilleur $\\lambda$ et évaluer votre modèle sur les données test. Quel MSE obtenez vous?**"
   ]
  },
  {
   "cell_type": "code",
   "execution_count": 164,
   "metadata": {},
   "outputs": [
    {
     "name": "stdout",
     "output_type": "stream",
     "text": [
      "MSE : 0.6156\n",
      "RMSE : 0.7846\n"
     ]
    }
   ],
   "source": [
    "# Réentraînement sur train+valid avec ce λ\n",
    "X_train_valid = np.vstack([X_train, X_valid])\n",
    "y_train_valid = np.hstack([y_train, y_valid])\n",
    "\n",
    "ridge_final = make_pipeline(StandardScaler(), Ridge(alpha=best_lambda))\n",
    "ridge_final.fit(X_train, y_train)\n",
    "\n",
    "y_pred = ridge_final.predict(X_valid)\n",
    "mse = mean_squared_error(y_valid, y_pred)\n",
    "mse_scores.append(mse)\n",
    "\n",
    "y_pred_test = ridge_final.predict(X_test)\n",
    "mse_test = mean_squared_error(y_test, y_pred_test)\n",
    "rmse_test = np.sqrt(mse_test)\n",
    "\n",
    "print(f\"MSE : {mse_test:.4f}\")\n",
    "print(f\"RMSE : {rmse_test:.4f}\")\n"
   ]
  },
  {
   "cell_type": "markdown",
   "metadata": {},
   "source": [
    "#### Validation croisée (k-fold CV)\n",
    "\n",
    "- On découpe l'échantillon d'apprentissage en $k$ parties (folds)\n",
    "- Pour chaque valeur de lambda, on entraine sur $k-1$ folds, et on valide sur le fold restant.\n",
    "- On prend la valeur de $\\lambda$ qui minimise l'erreur moyenne sur les k-folds."
   ]
  },
  {
   "cell_type": "markdown",
   "metadata": {},
   "source": [
    "**Question 9: utiliser RidgeCV pour déterminer le meilleur $\\lambda$ avec 5 folds. Afficher le lambda ainsi que le MSE. On utilisera la même grille de recherche que précedemment.**"
   ]
  },
  {
   "cell_type": "code",
   "execution_count": 165,
   "metadata": {},
   "outputs": [
    {
     "name": "stdout",
     "output_type": "stream",
     "text": [
      "['__abstractmethods__', '__annotations__', '__class__', '__delattr__', '__dict__', '__dir__', '__doc__', '__eq__', '__format__', '__ge__', '__getattribute__', '__getstate__', '__gt__', '__hash__', '__init__', '__init_subclass__', '__le__', '__lt__', '__module__', '__ne__', '__new__', '__reduce__', '__reduce_ex__', '__repr__', '__setattr__', '__setstate__', '__sizeof__', '__sklearn_clone__', '__sklearn_tags__', '__str__', '__subclasshook__', '__weakref__', '_abc_impl', '_build_request_for_signature', '_decision_function', '_doc_link_module', '_doc_link_template', '_doc_link_url_param_generator', '_estimator_type', '_get_default_requests', '_get_doc_link', '_get_metadata_request', '_get_param_names', '_get_params_html', '_get_scorer', '_html_repr', '_parameter_constraints', '_repr_html_', '_repr_html_inner', '_repr_mimebundle_', '_set_intercept', '_validate_params', 'alpha_', 'alpha_per_target', 'alphas', 'best_score_', 'coef_', 'cv', 'fit', 'fit_intercept', 'gcv_mode', 'get_metadata_routing', 'get_params', 'intercept_', 'n_features_in_', 'predict', 'score', 'scoring', 'set_fit_request', 'set_params', 'set_score_request', 'store_cv_results']\n"
     ]
    }
   ],
   "source": [
    "from sklearn.linear_model import RidgeCV\n",
    "# k = 5\n",
    "model_ridge_cv = make_pipeline(\n",
    "    StandardScaler(),\n",
    "    RidgeCV(alphas=lambdas, cv=5) \n",
    ")\n",
    "model_ridge_cv.fit(X_train, y_train)\n",
    "ridgecv_obj = model_ridge_cv.named_steps['ridgecv']\n",
    "print(dir(ridgecv_obj))\n"
   ]
  },
  {
   "cell_type": "code",
   "execution_count": 166,
   "metadata": {},
   "outputs": [
    {
     "name": "stdout",
     "output_type": "stream",
     "text": [
      "Meilleur lambda: 0.012648552168552958\n",
      "MSE minimal: 0.994710693557281\n"
     ]
    }
   ],
   "source": [
    "from sklearn.linear_model import RidgeCV, Ridge\n",
    "from sklearn.model_selection import cross_val_score, KFold\n",
    "from sklearn.preprocessing import StandardScaler\n",
    "from sklearn.pipeline import make_pipeline\n",
    "import numpy as np\n",
    "\n",
    "# k = 5\n",
    "model_ridge_cv = make_pipeline(\n",
    "    StandardScaler(),\n",
    "    RidgeCV(alphas=lambdas, cv=5)\n",
    ")\n",
    "model_ridge_cv.fit(X_train, y_train)\n",
    "\n",
    "best_lambda = model_ridge_cv.named_steps['ridgecv'].alpha_\n",
    "print(\"Meilleur lambda:\", best_lambda)\n",
    "\n",
    "kf = KFold(n_splits=10, shuffle=True, random_state=42)\n",
    "mse_scores = []\n",
    "\n",
    "for alpha in lambdas:\n",
    "    model = make_pipeline(StandardScaler(), Ridge(alpha=alpha))\n",
    "    scores = -cross_val_score(model, X_train, y_train, cv=kf, scoring='neg_mean_squared_error')\n",
    "    mse_scores.append(np.mean(scores))\n",
    "\n",
    "print(\"MSE minimal:\", np.min(mse_scores))\n"
   ]
  },
  {
   "cell_type": "markdown",
   "metadata": {},
   "source": [
    "### 3. Régression Lasso "
   ]
  },
  {
   "cell_type": "markdown",
   "metadata": {},
   "source": [
    "**Question 10: Reprendre la logique de ridge avec la régularisation Lasso. Déterminer la valeur optimal pour $\\lambda$ (avec la technique de votre choix). Comparer les valeurs des coefficients et les MSE des deux modèles.**"
   ]
  },
  {
   "cell_type": "code",
   "execution_count": 167,
   "metadata": {},
   "outputs": [
    {
     "name": "stdout",
     "output_type": "stream",
     "text": [
      "Meilleur λ pour Ridge : 0.0517947467923121\n",
      "Meilleur λ pour Lasso : 0.001\n",
      "\n",
      "MSE Ridge : 1.0286571673009814\n",
      "MSE Lasso : 1.031962821322304\n"
     ]
    }
   ],
   "source": [
    "from sklearn.model_selection import train_test_split\n",
    "from sklearn.linear_model import LassoCV, RidgeCV, Lasso\n",
    "from sklearn.metrics import mean_squared_error\n",
    "from sklearn.preprocessing import StandardScaler\n",
    "from sklearn.pipeline import make_pipeline\n",
    "import numpy as np\n",
    "\n",
    "lambdas = np.logspace(-3, 3, num=50)\n",
    "\n",
    "X_train, X_test, y_train, y_test = train_test_split(X_colinear, y, test_size=0.2, random_state=42)\n",
    "\n",
    "ridge_model = make_pipeline(\n",
    "    StandardScaler(),\n",
    "    RidgeCV(alphas=lambdas, cv=5)\n",
    ")\n",
    "ridge_model.fit(X_train, y_train)\n",
    "\n",
    "best_lambda_ridge = ridge_model.named_steps['ridgecv'].alpha_\n",
    "print(\"Meilleur λ pour Ridge :\", best_lambda_ridge)\n",
    "\n",
    "# Modèle Lasso avec validation croisée\n",
    "lasso_model = make_pipeline(\n",
    "    StandardScaler(),\n",
    "    LassoCV(alphas=lambdas, cv=5, max_iter=10000) \n",
    ")\n",
    "lasso_model.fit(X_train, y_train)\n",
    "\n",
    "# Récupération du meilleur lambda et des coefficients pour Lasso\n",
    "best_lambda_lasso = lasso_model.named_steps['lassocv'].alpha_\n",
    "print(\"Meilleur λ pour Lasso :\", best_lambda_lasso)\n",
    "\n",
    "# Prédictions\n",
    "y_pred_ridge = ridge_model.predict(X_test)\n",
    "y_pred_lasso = lasso_model.predict(X_test)\n",
    "\n",
    "# Calcul des MSE\n",
    "mse_ridge = mean_squared_error(y_test, y_pred_ridge)\n",
    "mse_lasso = mean_squared_error(y_test, y_pred_lasso)\n",
    "print(\"\\nMSE Ridge :\", mse_ridge)\n",
    "print(\"MSE Lasso :\", mse_lasso)\n"
   ]
  },
  {
   "cell_type": "markdown",
   "metadata": {},
   "source": [
    "### 3. ElasticNet\n",
    "**Question 11: Reprendre les questions précédentes avec le modèle elasticnet. Déterminer la valeur optimal pour $\\lambda$ et pour $\\gamma$. Comparer les valeurs des coefficients et les MSE des trois modèles.**"
   ]
  },
  {
   "cell_type": "code",
   "execution_count": 168,
   "metadata": {},
   "outputs": [
    {
     "name": "stdout",
     "output_type": "stream",
     "text": [
      "Meilleur λ pour Ridge : 0.052310993080562605\n",
      "Meilleur λ pour Lasso : 0.001\n",
      "Meilleur λ pour Elastic Net : 0.001\n",
      "Gamma =  0.9\n",
      "\n",
      "MSE Ridge : 1.028570497965081\n",
      "MSE Lasso : 1.031962821322304\n",
      "MSE Elastic Net : 1.0289553223100465\n"
     ]
    }
   ],
   "source": [
    "from sklearn.model_selection import train_test_split\n",
    "from sklearn.linear_model import LassoCV, RidgeCV, ElasticNetCV\n",
    "from sklearn.metrics import mean_squared_error\n",
    "from sklearn.preprocessing import StandardScaler\n",
    "from sklearn.pipeline import make_pipeline\n",
    "import numpy as np\n",
    "\n",
    "lambdas = np.logspace(-3, 3, num=200)\n",
    "X_train, X_test, y_train, y_test = train_test_split(X_colinear, y, test_size=0.2, random_state=42)\n",
    "\n",
    "# Ridge\n",
    "ridge_model = make_pipeline(\n",
    "    StandardScaler(),\n",
    "    RidgeCV(alphas=lambdas, cv=5)\n",
    ")\n",
    "ridge_model.fit(X_train, y_train)\n",
    "best_lambda_ridge = ridge_model[-1].alpha_\n",
    "print(\"Meilleur λ pour Ridge :\", best_lambda_ridge)\n",
    "\n",
    "# Lasso\n",
    "lasso_model = make_pipeline(\n",
    "    StandardScaler(),\n",
    "    LassoCV(alphas=lambdas, cv=5, max_iter=10000)\n",
    ")\n",
    "lasso_model.fit(X_train, y_train)\n",
    "best_lambda_lasso = lasso_model[-1].alpha_\n",
    "print(\"Meilleur λ pour Lasso :\", best_lambda_lasso)\n",
    "\n",
    "# Elastic Net\n",
    "elastic_model = make_pipeline(\n",
    "    StandardScaler(),\n",
    "    ElasticNetCV(alphas=lambdas, cv=5,l1_ratio=[0.1, 0.3, 0.5, 0.7, 0.9], max_iter=10000, random_state=42)\n",
    ")\n",
    "elastic_model.fit(X_train, y_train)\n",
    "best_lambda_elastic = elastic_model[-1].alpha_\n",
    "best_gamma_elastic = elastic_model[-1].l1_ratio_\n",
    "print(\"Meilleur λ pour Elastic Net :\", best_lambda_elastic)\n",
    "print(\"Gamma = \",best_gamma_elastic)\n",
    "\n",
    "# Prédictions\n",
    "y_pred_ridge = ridge_model.predict(X_test)\n",
    "y_pred_lasso = lasso_model.predict(X_test)\n",
    "y_pred_elastic = elastic_model.predict(X_test)\n",
    "\n",
    "# MSE\n",
    "mse_ridge = mean_squared_error(y_test, y_pred_ridge)\n",
    "mse_lasso = mean_squared_error(y_test, y_pred_lasso)\n",
    "mse_elastic = mean_squared_error(y_test, y_pred_elastic)\n",
    "print(\"\\nMSE Ridge :\", mse_ridge)\n",
    "print(\"MSE Lasso :\", mse_lasso)\n",
    "print(\"MSE Elastic Net :\", mse_elastic)\n"
   ]
  },
  {
   "cell_type": "markdown",
   "metadata": {},
   "source": [
    "## Bonus : Application à un dataset réel (Diabetes dataset)\n",
    "\n",
    "Nous allons comparer OLS, Ridge, Lasso et Elastic Net non seulement via la validation croisée,  \n",
    "mais aussi en séparant les données en un **train/test split** pour évaluer la performance finale.\n",
    "\n",
    "### Étapes\n",
    "\n",
    "1. Faire un train/test split (70/30).  \n",
    "2. Ajuster OLS, RidgeCV, LassoCV, ElasticNetCV sur les données d’entraînement.  \n",
    "3. Calculer et comparer les MSE et RMSE sur l’ensemble de test.\n",
    "4. Comparer les coefficients des modèles "
   ]
  },
  {
   "cell_type": "code",
   "execution_count": 170,
   "metadata": {},
   "outputs": [
    {
     "name": "stdout",
     "output_type": "stream",
     "text": [
      "Shape: (442, 10)\n"
     ]
    }
   ],
   "source": [
    "from sklearn.datasets import load_diabetes\n",
    "# Charger le dataset\n",
    "diabetes = load_diabetes()\n",
    "X, y = diabetes.data, diabetes.target\n",
    "print(\"Shape:\", X.shape)"
   ]
  },
  {
   "cell_type": "code",
   "execution_count": 175,
   "metadata": {},
   "outputs": [],
   "source": [
    "# Train-test split \n",
    "X_train, X_test, y_train, y_test = train_test_split(X, y, test_size=0.3, random_state=42)"
   ]
  },
  {
   "cell_type": "code",
   "execution_count": 176,
   "metadata": {},
   "outputs": [
    {
     "name": "stdout",
     "output_type": "stream",
     "text": [
      "MSE OLS : 2821.750981001311 RMSE OLS : 53.120156070942706\n",
      "MSE Ridge : 2819.9033164740044 RMSE Ridge : 53.102761853542084\n",
      "MSE Lasso : 2816.1021752901424 RMSE Lasso : 53.066959355988566\n",
      "MSE ElasticNet : 2820.0692919325124 RMSE ElasticNet : 53.10432460668822\n",
      "\n",
      "--- Paramètres optimaux ---\n",
      "λ Ridge : 1.151395399326447\n",
      "λ Lasso : 0.1206792640639329\n",
      "λ ElasticNet : 0.0030888435964774815\n",
      "L1 ratio ElasticNet : 0.1\n",
      "\n",
      "Coef OLS : [  1.35246724 -12.45426893  26.21004615  18.61443344 -43.26039442\n",
      "  24.2556288    5.73862584  13.96342685  31.57521526   1.98339354]\n",
      "Coef Ridge : [  1.4569512  -12.33204226  26.37680927  18.44908303 -31.99550676\n",
      "  15.53785369   0.7987447   12.31902013  27.17561485   2.15142016]\n",
      "Coef Lasso : [  1.34512198 -12.15961596  26.49168586  18.38621697 -29.93024527\n",
      "  13.94390841  -0.          11.93820273  26.50481852   2.06347056]\n",
      "Coef ElasticNet : [  1.4361888  -12.35903576  26.34942255  18.48430736 -34.17317697\n",
      "  17.219739     1.75180874  12.63798187  28.02781549   2.11593583]\n"
     ]
    }
   ],
   "source": [
    "# Standardiser les données (Standard Scaler) + appliquer les 3 modèles \n",
    "lambdas = np.logspace(-3, 3, num=50)\n",
    "\n",
    "# OLS\n",
    "ols_model = make_pipeline(StandardScaler(), LinearRegression())\n",
    "ols_model.fit(X_train, y_train)\n",
    "\n",
    "# RidgeCV\n",
    "ridge_model = make_pipeline(StandardScaler(), RidgeCV(alphas=lambdas, cv=5))\n",
    "ridge_model.fit(X_train, y_train)\n",
    "best_lambda_ridge = ridge_model[-1].alpha_\n",
    "\n",
    "# LassoCV\n",
    "lasso_model = make_pipeline(StandardScaler(), LassoCV(alphas=lambdas, cv=5, max_iter=10000))\n",
    "lasso_model.fit(X_train, y_train)\n",
    "best_lambda_lasso = lasso_model[-1].alpha_\n",
    "\n",
    "# ElasticNetCV\n",
    "elastic_model = make_pipeline(\n",
    "    StandardScaler(),\n",
    "    ElasticNetCV(alphas=lambdas, l1_ratio=[.1, .5, .7, .9, .95, .99, 1], cv=5, max_iter=10000)\n",
    ")\n",
    "elastic_model.fit(X_train, y_train)\n",
    "best_lambda_elastic = elastic_model[-1].alpha_\n",
    "best_l1_ratio = elastic_model[-1].l1_ratio_\n",
    "\n",
    "# Pred\n",
    "y_pred_ols = ols_model.predict(X_test)\n",
    "y_pred_ridge = ridge_model.predict(X_test)\n",
    "y_pred_lasso = lasso_model.predict(X_test)\n",
    "y_pred_elastic = elastic_model.predict(X_test)\n",
    "\n",
    "# MSE, RMSE\n",
    "mse_ols = mean_squared_error(y_test, y_pred_ols)\n",
    "rmse_ols = np.sqrt(mse_ols)\n",
    "\n",
    "mse_ridge = mean_squared_error(y_test, y_pred_ridge)\n",
    "rmse_ridge = np.sqrt(mse_ridge)\n",
    "\n",
    "mse_lasso = mean_squared_error(y_test, y_pred_lasso)\n",
    "rmse_lasso = np.sqrt(mse_lasso)\n",
    "\n",
    "mse_elastic = mean_squared_error(y_test, y_pred_elastic)\n",
    "rmse_elastic = np.sqrt(mse_elastic)\n",
    "\n",
    "print(\"MSE OLS :\", mse_ols, \"RMSE OLS :\", rmse_ols)\n",
    "print(\"MSE Ridge :\", mse_ridge, \"RMSE Ridge :\", rmse_ridge)\n",
    "print(\"MSE Lasso :\", mse_lasso, \"RMSE Lasso :\", rmse_lasso)\n",
    "print(\"MSE ElasticNet :\", mse_elastic, \"RMSE ElasticNet :\", rmse_elastic)\n",
    "\n",
    "# lambda\n",
    "print(\"\\n--- Paramètres optimaux ---\")\n",
    "print(\"λ Ridge :\", best_lambda_ridge)\n",
    "print(\"λ Lasso :\", best_lambda_lasso)\n",
    "print(\"λ ElasticNet :\", best_lambda_elastic)\n",
    "print(\"L1 ratio ElasticNet :\", best_l1_ratio)\n",
    "\n",
    "# coefficients\n",
    "coef_ols = ols_model.named_steps['linearregression'].coef_\n",
    "coef_ridge = ridge_model.named_steps['ridgecv'].coef_\n",
    "coef_lasso = lasso_model.named_steps['lassocv'].coef_\n",
    "coef_elastic = elastic_model.named_steps['elasticnetcv'].coef_\n",
    "\n",
    "print(\"\\nCoef OLS :\", coef_ols)\n",
    "print(\"Coef Ridge :\", coef_ridge)\n",
    "print(\"Coef Lasso :\", coef_lasso)\n",
    "print(\"Coef ElasticNet :\", coef_elastic)"
   ]
  },
  {
   "cell_type": "code",
   "execution_count": 173,
   "metadata": {},
   "outputs": [
    {
     "data": {
      "image/png": "[encoded data removed]",
      "text/plain": [
       "<Figure size 600x600 with 1 Axes>"
      ]
     },
     "metadata": {},
     "output_type": "display_data"
    }
   ],
   "source": [
    "import matplotlib.pyplot as plt\n",
    "\n",
    "plt.figure(figsize=(6,6))\n",
    "plt.scatter(y_test, y_pred_ols, label='OLS', alpha=0.7)\n",
    "plt.scatter(y_test, y_pred_ridge, label='Ridge', alpha=0.7)\n",
    "plt.scatter(y_test, y_pred_lasso, label='Lasso', alpha=0.7)\n",
    "plt.scatter(y_test, y_pred_elastic, label='Elastic Net', alpha=0.7)\n",
    "plt.plot([y_test.min(), y_test.max()], [y_test.min(), y_test.max()], 'k--', lw=2)\n",
    "plt.xlabel(\"Valeurs réelles (y_test)\")\n",
    "plt.ylabel(\"Valeurs prédites\")\n",
    "plt.title(\"Comparaison des prédictions\")\n",
    "plt.legend()\n",
    "plt.grid(True)\n",
    "plt.show()\n"
   ]
  },
  {
   "cell_type": "markdown",
   "metadata": {},
   "source": [
    "Votre commentaire sur les résultats obtenus."
   ]
  }
 ],
 "metadata": {
  "kernelspec": {
   "display_name": "Python 3 (ipykernel)",
   "language": "python",
   "name": "python3"
  },
  "language_info": {
   "codemirror_mode": {
    "name": "ipython",
    "version": 3
   },
   "file_extension": ".py",
   "mimetype": "text/x-python",
   "name": "python",
   "nbconvert_exporter": "python",
   "pygments_lexer": "ipython3",
   "version": "3.10.12"
  }
 },
 "nbformat": 4,
 "nbformat_minor": 2
}
